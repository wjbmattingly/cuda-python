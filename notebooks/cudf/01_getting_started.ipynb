{
 "cells": [
  {
   "cell_type": "code",
   "execution_count": 2,
   "metadata": {},
   "outputs": [
    {
     "name": "stdout",
     "output_type": "stream",
     "text": [
      "Thu Feb  6 20:48:15 2025       \n",
      "+-----------------------------------------------------------------------------------------+\n",
      "| NVIDIA-SMI 550.90.07              Driver Version: 550.90.07      CUDA Version: 12.4     |\n",
      "|-----------------------------------------+------------------------+----------------------+\n",
      "| GPU  Name                 Persistence-M | Bus-Id          Disp.A | Volatile Uncorr. ECC |\n",
      "| Fan  Temp   Perf          Pwr:Usage/Cap |           Memory-Usage | GPU-Util  Compute M. |\n",
      "|                                         |                        |               MIG M. |\n",
      "|=========================================+========================+======================|\n",
      "|   0  NVIDIA RTX 5000 Ada Gene...    Off |   00000000:01:00.0  On |                  Off |\n",
      "| 30%   33C    P8             22W /  250W |     497MiB /  32760MiB |      0%      Default |\n",
      "|                                         |                        |                  N/A |\n",
      "+-----------------------------------------+------------------------+----------------------+\n",
      "                                                                                         \n",
      "+-----------------------------------------------------------------------------------------+\n",
      "| Processes:                                                                              |\n",
      "|  GPU   GI   CI        PID   Type   Process name                              GPU Memory |\n",
      "|        ID   ID                                                               Usage      |\n",
      "|=========================================================================================|\n",
      "|    0   N/A  N/A      2297      G   /usr/lib/xorg/Xorg                            161MiB |\n",
      "|    0   N/A  N/A      2474      G   /usr/bin/gnome-shell                          143MiB |\n",
      "|    0   N/A  N/A      3389      G   ...erProcess --variations-seed-version        125MiB |\n",
      "|    0   N/A  N/A      5039      G   ...seed-version=20250109-180111.451000         50MiB |\n",
      "+-----------------------------------------------------------------------------------------+\n"
     ]
    }
   ],
   "source": [
    "!nvidia-smi"
   ]
  },
  {
   "cell_type": "code",
   "execution_count": 3,
   "metadata": {},
   "outputs": [],
   "source": [
    "import cudf"
   ]
  },
  {
   "cell_type": "code",
   "execution_count": 4,
   "metadata": {},
   "outputs": [],
   "source": [
    "df = cudf.read_parquet('../data/american_stories_1938_1945.parquet')"
   ]
  },
  {
   "cell_type": "code",
   "execution_count": 5,
   "metadata": {},
   "outputs": [
    {
     "name": "stdout",
     "output_type": "stream",
     "text": [
      "Thu Feb  6 20:49:37 2025       \n",
      "+-----------------------------------------------------------------------------------------+\n",
      "| NVIDIA-SMI 550.90.07              Driver Version: 550.90.07      CUDA Version: 12.4     |\n",
      "|-----------------------------------------+------------------------+----------------------+\n",
      "| GPU  Name                 Persistence-M | Bus-Id          Disp.A | Volatile Uncorr. ECC |\n",
      "| Fan  Temp   Perf          Pwr:Usage/Cap |           Memory-Usage | GPU-Util  Compute M. |\n",
      "|                                         |                        |               MIG M. |\n",
      "|=========================================+========================+======================|\n",
      "|   0  NVIDIA RTX 5000 Ada Gene...    Off |   00000000:01:00.0  On |                  Off |\n",
      "| 30%   36C    P5             50W /  250W |    4887MiB /  32760MiB |      1%      Default |\n",
      "|                                         |                        |                  N/A |\n",
      "+-----------------------------------------+------------------------+----------------------+\n",
      "                                                                                         \n",
      "+-----------------------------------------------------------------------------------------+\n",
      "| Processes:                                                                              |\n",
      "|  GPU   GI   CI        PID   Type   Process name                              GPU Memory |\n",
      "|        ID   ID                                                               Usage      |\n",
      "|=========================================================================================|\n",
      "|    0   N/A  N/A      2297      G   /usr/lib/xorg/Xorg                            161MiB |\n",
      "|    0   N/A  N/A      2474      G   /usr/bin/gnome-shell                          143MiB |\n",
      "|    0   N/A  N/A      3389      G   ...erProcess --variations-seed-version        147MiB |\n",
      "|    0   N/A  N/A      5039      G   ...seed-version=20250109-180111.451000         52MiB |\n",
      "|    0   N/A  N/A     13254      C   ...y/anaconda3/envs/cuda124/bin/python       4360MiB |\n",
      "+-----------------------------------------------------------------------------------------+\n"
     ]
    }
   ],
   "source": [
    "!nvidia-smi"
   ]
  },
  {
   "cell_type": "code",
   "execution_count": 6,
   "metadata": {},
   "outputs": [
    {
     "data": {
      "text/plain": [
       "(4368788, 8)"
      ]
     },
     "execution_count": 6,
     "metadata": {},
     "output_type": "execute_result"
    }
   ],
   "source": [
    "df.shape"
   ]
  },
  {
   "cell_type": "code",
   "execution_count": 7,
   "metadata": {},
   "outputs": [
    {
     "name": "stdout",
     "output_type": "stream",
     "text": [
      "<class 'cudf.core.dataframe.DataFrame'>\n",
      "RangeIndex: 4368788 entries, 0 to 4368787\n",
      "Data columns (total 8 columns):\n",
      " #   Column          Dtype\n",
      "---  ------          -----\n",
      " 0   article_id      object\n",
      " 1   newspaper_name  object\n",
      " 2   edition         object\n",
      " 3   date            object\n",
      " 4   page            object\n",
      " 5   headline        object\n",
      " 6   byline          object\n",
      " 7   article         object\n",
      "dtypes: object(8)\n",
      "memory usage: 3.9+ GB\n"
     ]
    }
   ],
   "source": [
    "df.info()"
   ]
  },
  {
   "cell_type": "code",
   "execution_count": 8,
   "metadata": {},
   "outputs": [
    {
     "data": {
      "text/html": [
       "<div>\n",
       "<style scoped>\n",
       "    .dataframe tbody tr th:only-of-type {\n",
       "        vertical-align: middle;\n",
       "    }\n",
       "\n",
       "    .dataframe tbody tr th {\n",
       "        vertical-align: top;\n",
       "    }\n",
       "\n",
       "    .dataframe thead th {\n",
       "        text-align: right;\n",
       "    }\n",
       "</style>\n",
       "<table border=\"1\" class=\"dataframe\">\n",
       "  <thead>\n",
       "    <tr style=\"text-align: right;\">\n",
       "      <th></th>\n",
       "      <th>article_id</th>\n",
       "      <th>newspaper_name</th>\n",
       "      <th>edition</th>\n",
       "      <th>date</th>\n",
       "      <th>page</th>\n",
       "      <th>headline</th>\n",
       "      <th>byline</th>\n",
       "      <th>article</th>\n",
       "    </tr>\n",
       "  </thead>\n",
       "  <tbody>\n",
       "    <tr>\n",
       "      <th>0</th>\n",
       "      <td>1_1938-11-08_p3_sn82014085_00393347429_1938110...</td>\n",
       "      <td>The Waterbury Democrat.</td>\n",
       "      <td>01</td>\n",
       "      <td>1938-11-08</td>\n",
       "      <td>p3</td>\n",
       "      <td>Fear Heavy Toll Among Civilians In Next Conflict</td>\n",
       "      <td></td>\n",
       "      <td>Recognition of a probable heavy toll among non...</td>\n",
       "    </tr>\n",
       "    <tr>\n",
       "      <th>1</th>\n",
       "      <td>3_1938-11-08_p3_sn82014085_00393347429_1938110...</td>\n",
       "      <td>The Waterbury Democrat.</td>\n",
       "      <td>01</td>\n",
       "      <td>1938-11-08</td>\n",
       "      <td>p3</td>\n",
       "      <td></td>\n",
       "      <td></td>\n",
       "      <td>Conforming to tradition, the Democratic candid...</td>\n",
       "    </tr>\n",
       "    <tr>\n",
       "      <th>2</th>\n",
       "      <td>4_1938-11-08_p3_sn82014085_00393347429_1938110...</td>\n",
       "      <td>The Waterbury Democrat.</td>\n",
       "      <td>01</td>\n",
       "      <td>1938-11-08</td>\n",
       "      <td>p3</td>\n",
       "      <td>Audience Thrilled By\\n\\n Early Masters Works\\n...</td>\n",
       "      <td></td>\n",
       "      <td>second by Kasper Ferdinand Fisch- CT.\\n\\n FOlk...</td>\n",
       "    </tr>\n",
       "    <tr>\n",
       "      <th>3</th>\n",
       "      <td>5_1938-11-08_p3_sn82014085_00393347429_1938110...</td>\n",
       "      <td>The Waterbury Democrat.</td>\n",
       "      <td>01</td>\n",
       "      <td>1938-11-08</td>\n",
       "      <td>p3</td>\n",
       "      <td>Democrats Institute Court Action T oday\\n\\n To...</td>\n",
       "      <td></td>\n",
       "      <td>in behalf of Charles Maloney of Se4 East Main ...</td>\n",
       "    </tr>\n",
       "    <tr>\n",
       "      <th>4</th>\n",
       "      <td>6_1938-11-08_p3_sn82014085_00393347429_1938110...</td>\n",
       "      <td>The Waterbury Democrat.</td>\n",
       "      <td>01</td>\n",
       "      <td>1938-11-08</td>\n",
       "      <td>p3</td>\n",
       "      <td>q WOMEN SEEK\\n\\n ELECTION JOBS\\n\\nNone Candida...</td>\n",
       "      <td>BY RUBY A. BLACK nifAd preea Sfaff Corresnovad...</td>\n",
       "      <td>NUnlte0 freSS Stam COrreSpOn0ent)\\n\\n Washingt...</td>\n",
       "    </tr>\n",
       "  </tbody>\n",
       "</table>\n",
       "</div>"
      ],
      "text/plain": [
       "                                          article_id           newspaper_name  \\\n",
       "0  1_1938-11-08_p3_sn82014085_00393347429_1938110...  The Waterbury Democrat.   \n",
       "1  3_1938-11-08_p3_sn82014085_00393347429_1938110...  The Waterbury Democrat.   \n",
       "2  4_1938-11-08_p3_sn82014085_00393347429_1938110...  The Waterbury Democrat.   \n",
       "3  5_1938-11-08_p3_sn82014085_00393347429_1938110...  The Waterbury Democrat.   \n",
       "4  6_1938-11-08_p3_sn82014085_00393347429_1938110...  The Waterbury Democrat.   \n",
       "\n",
       "  edition        date page                                           headline  \\\n",
       "0      01  1938-11-08   p3   Fear Heavy Toll Among Civilians In Next Conflict   \n",
       "1      01  1938-11-08   p3                                                      \n",
       "2      01  1938-11-08   p3  Audience Thrilled By\\n\\n Early Masters Works\\n...   \n",
       "3      01  1938-11-08   p3  Democrats Institute Court Action T oday\\n\\n To...   \n",
       "4      01  1938-11-08   p3  q WOMEN SEEK\\n\\n ELECTION JOBS\\n\\nNone Candida...   \n",
       "\n",
       "                                              byline  \\\n",
       "0                                                      \n",
       "1                                                      \n",
       "2                                                      \n",
       "3                                                      \n",
       "4  BY RUBY A. BLACK nifAd preea Sfaff Corresnovad...   \n",
       "\n",
       "                                             article  \n",
       "0  Recognition of a probable heavy toll among non...  \n",
       "1  Conforming to tradition, the Democratic candid...  \n",
       "2  second by Kasper Ferdinand Fisch- CT.\\n\\n FOlk...  \n",
       "3  in behalf of Charles Maloney of Se4 East Main ...  \n",
       "4  NUnlte0 freSS Stam COrreSpOn0ent)\\n\\n Washingt...  "
      ]
     },
     "execution_count": 8,
     "metadata": {},
     "output_type": "execute_result"
    }
   ],
   "source": [
    "df.head(5)"
   ]
  },
  {
   "cell_type": "code",
   "execution_count": 9,
   "metadata": {},
   "outputs": [
    {
     "data": {
      "text/html": [
       "<div>\n",
       "<style scoped>\n",
       "    .dataframe tbody tr th:only-of-type {\n",
       "        vertical-align: middle;\n",
       "    }\n",
       "\n",
       "    .dataframe tbody tr th {\n",
       "        vertical-align: top;\n",
       "    }\n",
       "\n",
       "    .dataframe thead th {\n",
       "        text-align: right;\n",
       "    }\n",
       "</style>\n",
       "<table border=\"1\" class=\"dataframe\">\n",
       "  <thead>\n",
       "    <tr style=\"text-align: right;\">\n",
       "      <th></th>\n",
       "      <th>article_id</th>\n",
       "      <th>newspaper_name</th>\n",
       "      <th>edition</th>\n",
       "      <th>date</th>\n",
       "      <th>page</th>\n",
       "      <th>headline</th>\n",
       "      <th>byline</th>\n",
       "      <th>article</th>\n",
       "    </tr>\n",
       "  </thead>\n",
       "  <tbody>\n",
       "    <tr>\n",
       "      <th>count</th>\n",
       "      <td>4368788</td>\n",
       "      <td>4368788</td>\n",
       "      <td>4368788</td>\n",
       "      <td>4368788</td>\n",
       "      <td>4368788</td>\n",
       "      <td>4368788</td>\n",
       "      <td>4368788</td>\n",
       "      <td>4368788</td>\n",
       "    </tr>\n",
       "    <tr>\n",
       "      <th>unique</th>\n",
       "      <td>4368788</td>\n",
       "      <td>90</td>\n",
       "      <td>2</td>\n",
       "      <td>2922</td>\n",
       "      <td>152</td>\n",
       "      <td>2284264</td>\n",
       "      <td>201573</td>\n",
       "      <td>4304503</td>\n",
       "    </tr>\n",
       "    <tr>\n",
       "      <th>top</th>\n",
       "      <td>100_1938-01-01_p21_sn83045462_00280601676_1938...</td>\n",
       "      <td>Evening star.</td>\n",
       "      <td>01</td>\n",
       "      <td>1939-01-05</td>\n",
       "      <td>p1</td>\n",
       "      <td></td>\n",
       "      <td></td>\n",
       "      <td>Continued from Page D</td>\n",
       "    </tr>\n",
       "    <tr>\n",
       "      <th>freq</th>\n",
       "      <td>1</td>\n",
       "      <td>2085262</td>\n",
       "      <td>4364720</td>\n",
       "      <td>2797</td>\n",
       "      <td>374117</td>\n",
       "      <td>1490841</td>\n",
       "      <td>3793740</td>\n",
       "      <td>2093</td>\n",
       "    </tr>\n",
       "  </tbody>\n",
       "</table>\n",
       "</div>"
      ],
      "text/plain": [
       "                                               article_id newspaper_name  \\\n",
       "count                                             4368788        4368788   \n",
       "unique                                            4368788             90   \n",
       "top     100_1938-01-01_p21_sn83045462_00280601676_1938...  Evening star.   \n",
       "freq                                                    1        2085262   \n",
       "\n",
       "        edition        date     page headline   byline                article  \n",
       "count   4368788     4368788  4368788  4368788  4368788                4368788  \n",
       "unique        2        2922      152  2284264   201573                4304503  \n",
       "top          01  1939-01-05       p1                    Continued from Page D  \n",
       "freq    4364720        2797   374117  1490841  3793740                   2093  "
      ]
     },
     "execution_count": 9,
     "metadata": {},
     "output_type": "execute_result"
    }
   ],
   "source": [
    "df.describe()"
   ]
  },
  {
   "cell_type": "code",
   "execution_count": 10,
   "metadata": {},
   "outputs": [
    {
     "data": {
      "text/plain": [
       "0                The Waterbury Democrat.\n",
       "1                          Evening star.\n",
       "2                      Twin-City herald.\n",
       "3                  The Washington times.\n",
       "4               The Daily Alaska empire.\n",
       "                     ...                \n",
       "85                          Arizona sun.\n",
       "86               The Chapel Hill weekly.\n",
       "87            The Wyandotte news-herald.\n",
       "88                          Post script.\n",
       "89    Postscript of the Apache sentinel.\n",
       "Name: newspaper_name, Length: 90, dtype: object"
      ]
     },
     "execution_count": 10,
     "metadata": {},
     "output_type": "execute_result"
    }
   ],
   "source": [
    "df[\"newspaper_name\"].unique()"
   ]
  },
  {
   "cell_type": "code",
   "execution_count": 11,
   "metadata": {},
   "outputs": [
    {
     "data": {
      "text/plain": [
       "article\n",
       "Continued from Page D                                                                                                                                                                                                                                                                                                                                                                                                                                                                                                                                                                                                                                                                                                                                                                                                                                                                                                                                                                  2093\n",
       "(Continued from Page D                                                                                                                                                                                                                                                                                                                                                                                                                                                                                                                                                                                                                                                                                                                                                                                                                                                                                                                                                                 1939\n",
       "Continued from Page One)                                                                                                                                                                                                                                                                                                                                                                                                                                                                                                                                                                                                                                                                                                                                                                                                                                                                                                                                                                710\n",
       "(Continued on Page 4)                                                                                                                                                                                                                                                                                                                                                                                                                                                                                                                                                                                                                                                                                                                                                                                                                                                                                                                                                                   670\n",
       "Continued on Page D                                                                                                                                                                                                                                                                                                                                                                                                                                                                                                                                                                                                                                                                                                                                                                                                                                                                                                                                                                     640\n",
       "                                                                                                                                                                                                                                                                                                                                                                                                                                                                                                                                                                                                                                                                                                                                                                                                                                                                                                                                                                                       ... \n",
       "Weeks Highlights Page ? Kodiak Diary 5 Railway Express Changes 3 Bank Has Birthday 3 Otto Kraft Death 4 GA Regi ter 4 Bond Payroll Plan at Base , Maps and Pictures 0 Church Notices / Tax, Other Notices 10 Patrol Assignments Il Classifeds Il                                                                                                                                                                                                                                                                                                                                                                                                                                                                                                                                                                                                                                                                                                                                          1\n",
       "1t. Gen. H. H. Arnold, chief of\\nthe Army Air Forces, was reported\\n10 have told Senate Appropria-\\ntions Subcommittee yesterday that\\nthe Army was expanding its use\\nof civilian planes and pilots in the\\nanti-submarine patrol along the\\nAtlantic Coast.\\n\\n\\nGen. Arnold testified at the sug-\\ngestion of Senator Brooks, Repub-\\nlican, of Illinois. who has advocated\\nwider use of civilian equipment in\\nthis patrol, saying that 4,500 planes\\nwere available to track down SUBJ\\nmarines preying on merchant ship\\nping. Senator Brooks declined to\\ncomment on Gen. Arnold's testi-\\nmony except to say he believed it\\nconfirmed his Judgment that ad-\\nditional planes could'be used.\\n\\n\\nSenators O'Mahoney, Democrat\\nOf Wyoming, and Russell, Demo-\\ncrat, of Georgia, said they obtained\\nthe impression that the Army was\\nincreasing the number of planes\\non patrol about as rapidly as cir\\ncumstances would permit and that\\n\"a good job\" was being done.       1\n",
       "For tho third time an air raid\\nuuniug siren was tested here and\\nreports thal could bc heard TIVE\\nmaes AWAY wu be nmcd own\\nto Glenn C. Richards. civilian de-\\nTense cd-ordinator for this area.\\n\\n\\nThe test was run from the train\\ning tower of the fire department\\napparatus headquarters, 3i34 Rus\\nsell street\\n\\n\\nThe Nhree-horoepoWer electric\\nSiCon. manufactured by a Michigan\\nconcern at a cost of S264 each.\\nwas demonstrated by Elton NJ\\nEldrodgc regional manager Of the\\nconcern.                                                                                                                                                                                                                                                                                                                                                                                                                                                                                1\n",
       "By the Associated Press.\\n\\n\\nHOLLYWOOD, Oct. 27.-Garrett\\nFort, At, stage and screen writer\\ndied in Beverly Hills Hospital yes\\nterday after having been found un-\\nconscious on the bed in his apart\\nment.\\n\\n\\nPolice said he made arrangements\\nlast week with an undertaken for his\\nfuneral.\\n\\n\\nBorn in New York City, Mr.. Fort\\nwrote several Broadway produc-\\ntions before coming to Hollywood\\nHe wrote SO film plays.\\n\\n\\nMr.. Forts agent, Bernard Sindell\\nsaid the writer had not been ill and\\nwas in good spirits when he last saw\\nhim a week or 10 days ago.                                                                                                                                                                                                                                                                                                                                                                                                      1\n",
       "99-pound class-Joe Collins (G.) Va\\nMathew Binns (GD.                                                                                                                                                                                                                                                                                                                                                                                                                                                                                                                                                                                                                                                                                                                                                                                                                                                                                                                                     1\n",
       "Name: count, Length: 4304503, dtype: int64"
      ]
     },
     "execution_count": 11,
     "metadata": {},
     "output_type": "execute_result"
    }
   ],
   "source": [
    "df[\"article\"].value_counts()"
   ]
  },
  {
   "cell_type": "code",
   "execution_count": null,
   "metadata": {},
   "outputs": [],
   "source": []
  }
 ],
 "metadata": {
  "kernelspec": {
   "display_name": "cuda124",
   "language": "python",
   "name": "python3"
  },
  "language_info": {
   "codemirror_mode": {
    "name": "ipython",
    "version": 3
   },
   "file_extension": ".py",
   "mimetype": "text/x-python",
   "name": "python",
   "nbconvert_exporter": "python",
   "pygments_lexer": "ipython3",
   "version": "3.10.16"
  }
 },
 "nbformat": 4,
 "nbformat_minor": 2
}
