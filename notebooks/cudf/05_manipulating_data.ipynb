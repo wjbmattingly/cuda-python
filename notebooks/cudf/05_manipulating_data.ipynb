{
 "cells": [
  {
   "cell_type": "code",
   "execution_count": 1,
   "metadata": {},
   "outputs": [],
   "source": [
    "import cudf"
   ]
  },
  {
   "cell_type": "code",
   "execution_count": 2,
   "metadata": {},
   "outputs": [],
   "source": [
    "df = cudf.read_parquet('../data/american_stories_1938_1945.parquet')"
   ]
  },
  {
   "cell_type": "code",
   "execution_count": 3,
   "metadata": {},
   "outputs": [
    {
     "name": "stdout",
     "output_type": "stream",
     "text": [
      "Fri Feb  7 21:11:43 2025       \n",
      "+-----------------------------------------------------------------------------------------+\n",
      "| NVIDIA-SMI 550.90.07              Driver Version: 550.90.07      CUDA Version: 12.4     |\n",
      "|-----------------------------------------+------------------------+----------------------+\n",
      "| GPU  Name                 Persistence-M | Bus-Id          Disp.A | Volatile Uncorr. ECC |\n",
      "| Fan  Temp   Perf          Pwr:Usage/Cap |           Memory-Usage | GPU-Util  Compute M. |\n",
      "|                                         |                        |               MIG M. |\n",
      "|=========================================+========================+======================|\n",
      "|   0  NVIDIA RTX 5000 Ada Gene...    Off |   00000000:01:00.0 Off |                  Off |\n",
      "| 30%   32C    P2             55W /  250W |    5256MiB /  32760MiB |      7%      Default |\n",
      "|                                         |                        |                  N/A |\n",
      "+-----------------------------------------+------------------------+----------------------+\n",
      "                                                                                         \n",
      "+-----------------------------------------------------------------------------------------+\n",
      "| Processes:                                                                              |\n",
      "|  GPU   GI   CI        PID   Type   Process name                              GPU Memory |\n",
      "|        ID   ID                                                               Usage      |\n",
      "|=========================================================================================|\n",
      "|    0   N/A  N/A      2098      G   /usr/lib/xorg/Xorg                            350MiB |\n",
      "|    0   N/A  N/A      2533      G   /usr/bin/gnome-shell                          197MiB |\n",
      "|    0   N/A  N/A      7561      G   ...erProcess --variations-seed-version        309MiB |\n",
      "|    0   N/A  N/A      8723      C   ...y/anaconda3/envs/cuda124/bin/python       4360MiB |\n",
      "+-----------------------------------------------------------------------------------------+\n"
     ]
    }
   ],
   "source": [
    "!nvidia-smi"
   ]
  },
  {
   "cell_type": "code",
   "execution_count": 4,
   "metadata": {},
   "outputs": [
    {
     "data": {
      "text/html": [
       "<div>\n",
       "<style scoped>\n",
       "    .dataframe tbody tr th:only-of-type {\n",
       "        vertical-align: middle;\n",
       "    }\n",
       "\n",
       "    .dataframe tbody tr th {\n",
       "        vertical-align: top;\n",
       "    }\n",
       "\n",
       "    .dataframe thead th {\n",
       "        text-align: right;\n",
       "    }\n",
       "</style>\n",
       "<table border=\"1\" class=\"dataframe\">\n",
       "  <thead>\n",
       "    <tr style=\"text-align: right;\">\n",
       "      <th></th>\n",
       "      <th>article_id</th>\n",
       "      <th>newspaper_name</th>\n",
       "      <th>edition</th>\n",
       "      <th>date</th>\n",
       "      <th>page</th>\n",
       "      <th>headline</th>\n",
       "      <th>byline</th>\n",
       "      <th>article</th>\n",
       "    </tr>\n",
       "  </thead>\n",
       "  <tbody>\n",
       "    <tr>\n",
       "      <th>0</th>\n",
       "      <td>1_1938-11-08_p3_sn82014085_00393347429_1938110...</td>\n",
       "      <td>The Waterbury Democrat.</td>\n",
       "      <td>01</td>\n",
       "      <td>1938-11-08</td>\n",
       "      <td>p3</td>\n",
       "      <td>Fear Heavy Toll Among Civilians In Next Conflict</td>\n",
       "      <td></td>\n",
       "      <td>Recognition of a probable heavy toll among non...</td>\n",
       "    </tr>\n",
       "  </tbody>\n",
       "</table>\n",
       "</div>"
      ],
      "text/plain": [
       "                                          article_id           newspaper_name  \\\n",
       "0  1_1938-11-08_p3_sn82014085_00393347429_1938110...  The Waterbury Democrat.   \n",
       "\n",
       "  edition        date page                                          headline  \\\n",
       "0      01  1938-11-08   p3  Fear Heavy Toll Among Civilians In Next Conflict   \n",
       "\n",
       "  byline                                            article  \n",
       "0         Recognition of a probable heavy toll among non...  "
      ]
     },
     "execution_count": 4,
     "metadata": {},
     "output_type": "execute_result"
    }
   ],
   "source": [
    "df.head(1)"
   ]
  },
  {
   "cell_type": "markdown",
   "metadata": {},
   "source": [
    "## Changing a Column Type\n",
    "\n",
    "In this section, we'll convert the 'date' column from string format to datetime format using cuDF's to_datetime() function. This allows us to perform date-based operations and analysis on our data more effectively."
   ]
  },
  {
   "cell_type": "code",
   "execution_count": 5,
   "metadata": {},
   "outputs": [],
   "source": [
    "# Convert date column to datetime\n",
    "df['date'] = cudf.to_datetime(df['date'])\n"
   ]
  },
  {
   "cell_type": "code",
   "execution_count": 6,
   "metadata": {},
   "outputs": [
    {
     "name": "stdout",
     "output_type": "stream",
     "text": [
      "<class 'cudf.core.dataframe.DataFrame'>\n",
      "RangeIndex: 4368788 entries, 0 to 4368787\n",
      "Data columns (total 8 columns):\n",
      " #   Column          Dtype\n",
      "---  ------          -----\n",
      " 0   article_id      object\n",
      " 1   newspaper_name  object\n",
      " 2   edition         object\n",
      " 3   date            datetime64[ns]\n",
      " 4   page            object\n",
      " 5   headline        object\n",
      " 6   byline          object\n",
      " 7   article         object\n",
      "dtypes: datetime64[ns](1), object(7)\n",
      "memory usage: 3.9+ GB\n"
     ]
    }
   ],
   "source": [
    "df.info()"
   ]
  },
  {
   "cell_type": "markdown",
   "metadata": {},
   "source": [
    "## Using str.findall() for Pattern Matching\n",
    "\n",
    "The str.findall() method is a powerful tool for extracting patterns from text data. In our case, we're using it to:\n",
    "\n",
    "1. Find all capitalized words in the article text\n",
    "2. Match words that:\n",
    "    - Begin with a capital letter (\\b[A-Z])\n",
    "    - Are followed by 4 or more letters ([a-zA-Z]{4,})\n",
    "    - Are bounded by word boundaries (\\b)\n",
    "\n",
    "The regex pattern '\\b[A-Z][a-zA-Z]{4,}\\b' breaks down as:\n",
    "- \\b: Word boundary\n",
    "- [A-Z]: First letter must be capital\n",
    "- [a-zA-Z]{4,}: Followed by 4 or more letters (upper or lowercase)\n",
    "- \\b: Word boundary\n",
    "\n",
    "This helps us identify proper nouns and important terms in the articles.\n"
   ]
  },
  {
   "cell_type": "code",
   "execution_count": 7,
   "metadata": {},
   "outputs": [
    {
     "data": {
      "text/html": [
       "<div>\n",
       "<style scoped>\n",
       "    .dataframe tbody tr th:only-of-type {\n",
       "        vertical-align: middle;\n",
       "    }\n",
       "\n",
       "    .dataframe tbody tr th {\n",
       "        vertical-align: top;\n",
       "    }\n",
       "\n",
       "    .dataframe thead th {\n",
       "        text-align: right;\n",
       "    }\n",
       "</style>\n",
       "<table border=\"1\" class=\"dataframe\">\n",
       "  <thead>\n",
       "    <tr style=\"text-align: right;\">\n",
       "      <th></th>\n",
       "      <th>article_id</th>\n",
       "      <th>newspaper_name</th>\n",
       "      <th>edition</th>\n",
       "      <th>date</th>\n",
       "      <th>page</th>\n",
       "      <th>headline</th>\n",
       "      <th>byline</th>\n",
       "      <th>article</th>\n",
       "      <th>capitalized_words</th>\n",
       "    </tr>\n",
       "  </thead>\n",
       "  <tbody>\n",
       "    <tr>\n",
       "      <th>0</th>\n",
       "      <td>1_1938-11-08_p3_sn82014085_00393347429_1938110...</td>\n",
       "      <td>The Waterbury Democrat.</td>\n",
       "      <td>01</td>\n",
       "      <td>1938-11-08</td>\n",
       "      <td>p3</td>\n",
       "      <td>Fear Heavy Toll Among Civilians In Next Conflict</td>\n",
       "      <td></td>\n",
       "      <td>Recognition of a probable heavy toll among non...</td>\n",
       "      <td>[Recognition, International, Conference, Paris...</td>\n",
       "    </tr>\n",
       "    <tr>\n",
       "      <th>1</th>\n",
       "      <td>3_1938-11-08_p3_sn82014085_00393347429_1938110...</td>\n",
       "      <td>The Waterbury Democrat.</td>\n",
       "      <td>01</td>\n",
       "      <td>1938-11-08</td>\n",
       "      <td>p3</td>\n",
       "      <td></td>\n",
       "      <td></td>\n",
       "      <td>Conforming to tradition, the Democratic candid...</td>\n",
       "      <td>[Conforming, Democratic, Bridge, Attorney, Pat...</td>\n",
       "    </tr>\n",
       "    <tr>\n",
       "      <th>2</th>\n",
       "      <td>4_1938-11-08_p3_sn82014085_00393347429_1938110...</td>\n",
       "      <td>The Waterbury Democrat.</td>\n",
       "      <td>01</td>\n",
       "      <td>1938-11-08</td>\n",
       "      <td>p3</td>\n",
       "      <td>Audience Thrilled By\\n\\n Early Masters Works\\n...</td>\n",
       "      <td></td>\n",
       "      <td>second by Kasper Ferdinand Fisch- CT.\\n\\n FOlk...</td>\n",
       "      <td>[Kasper, Ferdinand, Fisch, FOlkSOngS, Trapp, C...</td>\n",
       "    </tr>\n",
       "    <tr>\n",
       "      <th>3</th>\n",
       "      <td>5_1938-11-08_p3_sn82014085_00393347429_1938110...</td>\n",
       "      <td>The Waterbury Democrat.</td>\n",
       "      <td>01</td>\n",
       "      <td>1938-11-08</td>\n",
       "      <td>p3</td>\n",
       "      <td>Democrats Institute Court Action T oday\\n\\n To...</td>\n",
       "      <td></td>\n",
       "      <td>in behalf of Charles Maloney of Se4 East Main ...</td>\n",
       "      <td>[Charles, Maloney, Attorney, Lynch, Democratic...</td>\n",
       "    </tr>\n",
       "    <tr>\n",
       "      <th>4</th>\n",
       "      <td>6_1938-11-08_p3_sn82014085_00393347429_1938110...</td>\n",
       "      <td>The Waterbury Democrat.</td>\n",
       "      <td>01</td>\n",
       "      <td>1938-11-08</td>\n",
       "      <td>p3</td>\n",
       "      <td>q WOMEN SEEK\\n\\n ELECTION JOBS\\n\\nNone Candida...</td>\n",
       "      <td>BY RUBY A. BLACK nifAd preea Sfaff Corresnovad...</td>\n",
       "      <td>NUnlte0 freSS Stam COrreSpOn0ent)\\n\\n Washingt...</td>\n",
       "      <td>[Washington, Twenty, United, States, Senate, H...</td>\n",
       "    </tr>\n",
       "    <tr>\n",
       "      <th>...</th>\n",
       "      <td>...</td>\n",
       "      <td>...</td>\n",
       "      <td>...</td>\n",
       "      <td>...</td>\n",
       "      <td>...</td>\n",
       "      <td>...</td>\n",
       "      <td>...</td>\n",
       "      <td>...</td>\n",
       "      <td>...</td>\n",
       "    </tr>\n",
       "    <tr>\n",
       "      <th>4368783</th>\n",
       "      <td>28_1945-12-05_p7_sn88063294_00340589130_194512...</td>\n",
       "      <td>Detroit evening times.</td>\n",
       "      <td>01</td>\n",
       "      <td>1945-12-05</td>\n",
       "      <td>p7</td>\n",
       "      <td></td>\n",
       "      <td></td>\n",
       "      <td>Here's a contest you win! And what prize!\\nA b...</td>\n",
       "      <td>[Chevrolet, Victory, Bonds, Victory]</td>\n",
       "    </tr>\n",
       "    <tr>\n",
       "      <th>4368784</th>\n",
       "      <td>10_1945-04-18_p35_sn83045462_00280604082_19450...</td>\n",
       "      <td>Evening star.</td>\n",
       "      <td>01</td>\n",
       "      <td>1945-04-18</td>\n",
       "      <td>p35</td>\n",
       "      <td>ADVERTISEMENT,\\n\\nADNL n lSLhLt&gt;1\\nTorment OF ...</td>\n",
       "      <td></td>\n",
       "      <td>II you can't get your feet of your mind\\nbecau...</td>\n",
       "      <td>[Presto, Scholl, Department, Stores, Toiletry,...</td>\n",
       "    </tr>\n",
       "    <tr>\n",
       "      <th>4368785</th>\n",
       "      <td>3_1945-04-18_p35_sn83045462_00280604082_194504...</td>\n",
       "      <td>Evening star.</td>\n",
       "      <td>01</td>\n",
       "      <td>1945-04-18</td>\n",
       "      <td>p35</td>\n",
       "      <td>Jury Rules Chaplin\\nIs.Father;; Conference\\nOn...</td>\n",
       "      <td>By the Associated Press.</td>\n",
       "      <td>By the Associated Press.\\n\\n\\nLOS ANGELES, Apr...</td>\n",
       "      <td>[Associated, Press, ANGELES, April, Court, Cha...</td>\n",
       "    </tr>\n",
       "    <tr>\n",
       "      <th>4368786</th>\n",
       "      <td>21_1945-04-18_p35_sn83045462_00280604082_19450...</td>\n",
       "      <td>Evening star.</td>\n",
       "      <td>01</td>\n",
       "      <td>1945-04-18</td>\n",
       "      <td>p35</td>\n",
       "      <td>Use Your\\nBeIdqet Account</td>\n",
       "      <td></td>\n",
       "      <td>It's easy as A-B-C to open a\\nCharge, Budget o...</td>\n",
       "      <td>[Charge, Budget, Coupon, Goldenberg, Floor, Cr...</td>\n",
       "    </tr>\n",
       "    <tr>\n",
       "      <th>4368787</th>\n",
       "      <td>6_1945-04-18_p35_sn83045462_00280604082_194504...</td>\n",
       "      <td>Evening star.</td>\n",
       "      <td>01</td>\n",
       "      <td>1945-04-18</td>\n",
       "      <td>p35</td>\n",
       "      <td>Verdict for Defendant</td>\n",
       "      <td></td>\n",
       "      <td>A District Court jury yesterday\\nreturned a ve...</td>\n",
       "      <td>[District, Court, Wallace, Linfoot, Linfoot, S...</td>\n",
       "    </tr>\n",
       "  </tbody>\n",
       "</table>\n",
       "<p>4368788 rows × 9 columns</p>\n",
       "</div>"
      ],
      "text/plain": [
       "                                                article_id  \\\n",
       "0        1_1938-11-08_p3_sn82014085_00393347429_1938110...   \n",
       "1        3_1938-11-08_p3_sn82014085_00393347429_1938110...   \n",
       "2        4_1938-11-08_p3_sn82014085_00393347429_1938110...   \n",
       "3        5_1938-11-08_p3_sn82014085_00393347429_1938110...   \n",
       "4        6_1938-11-08_p3_sn82014085_00393347429_1938110...   \n",
       "...                                                    ...   \n",
       "4368783  28_1945-12-05_p7_sn88063294_00340589130_194512...   \n",
       "4368784  10_1945-04-18_p35_sn83045462_00280604082_19450...   \n",
       "4368785  3_1945-04-18_p35_sn83045462_00280604082_194504...   \n",
       "4368786  21_1945-04-18_p35_sn83045462_00280604082_19450...   \n",
       "4368787  6_1945-04-18_p35_sn83045462_00280604082_194504...   \n",
       "\n",
       "                  newspaper_name edition       date page  \\\n",
       "0        The Waterbury Democrat.      01 1938-11-08   p3   \n",
       "1        The Waterbury Democrat.      01 1938-11-08   p3   \n",
       "2        The Waterbury Democrat.      01 1938-11-08   p3   \n",
       "3        The Waterbury Democrat.      01 1938-11-08   p3   \n",
       "4        The Waterbury Democrat.      01 1938-11-08   p3   \n",
       "...                          ...     ...        ...  ...   \n",
       "4368783   Detroit evening times.      01 1945-12-05   p7   \n",
       "4368784            Evening star.      01 1945-04-18  p35   \n",
       "4368785            Evening star.      01 1945-04-18  p35   \n",
       "4368786            Evening star.      01 1945-04-18  p35   \n",
       "4368787            Evening star.      01 1945-04-18  p35   \n",
       "\n",
       "                                                  headline  \\\n",
       "0         Fear Heavy Toll Among Civilians In Next Conflict   \n",
       "1                                                            \n",
       "2        Audience Thrilled By\\n\\n Early Masters Works\\n...   \n",
       "3        Democrats Institute Court Action T oday\\n\\n To...   \n",
       "4        q WOMEN SEEK\\n\\n ELECTION JOBS\\n\\nNone Candida...   \n",
       "...                                                    ...   \n",
       "4368783                                                      \n",
       "4368784  ADVERTISEMENT,\\n\\nADNL n lSLhLt>1\\nTorment OF ...   \n",
       "4368785  Jury Rules Chaplin\\nIs.Father;; Conference\\nOn...   \n",
       "4368786                          Use Your\\nBeIdqet Account   \n",
       "4368787                              Verdict for Defendant   \n",
       "\n",
       "                                                    byline  \\\n",
       "0                                                            \n",
       "1                                                            \n",
       "2                                                            \n",
       "3                                                            \n",
       "4        BY RUBY A. BLACK nifAd preea Sfaff Corresnovad...   \n",
       "...                                                    ...   \n",
       "4368783                                                      \n",
       "4368784                                                      \n",
       "4368785                           By the Associated Press.   \n",
       "4368786                                                      \n",
       "4368787                                                      \n",
       "\n",
       "                                                   article  \\\n",
       "0        Recognition of a probable heavy toll among non...   \n",
       "1        Conforming to tradition, the Democratic candid...   \n",
       "2        second by Kasper Ferdinand Fisch- CT.\\n\\n FOlk...   \n",
       "3        in behalf of Charles Maloney of Se4 East Main ...   \n",
       "4        NUnlte0 freSS Stam COrreSpOn0ent)\\n\\n Washingt...   \n",
       "...                                                    ...   \n",
       "4368783  Here's a contest you win! And what prize!\\nA b...   \n",
       "4368784  II you can't get your feet of your mind\\nbecau...   \n",
       "4368785  By the Associated Press.\\n\\n\\nLOS ANGELES, Apr...   \n",
       "4368786  It's easy as A-B-C to open a\\nCharge, Budget o...   \n",
       "4368787  A District Court jury yesterday\\nreturned a ve...   \n",
       "\n",
       "                                         capitalized_words  \n",
       "0        [Recognition, International, Conference, Paris...  \n",
       "1        [Conforming, Democratic, Bridge, Attorney, Pat...  \n",
       "2        [Kasper, Ferdinand, Fisch, FOlkSOngS, Trapp, C...  \n",
       "3        [Charles, Maloney, Attorney, Lynch, Democratic...  \n",
       "4        [Washington, Twenty, United, States, Senate, H...  \n",
       "...                                                    ...  \n",
       "4368783               [Chevrolet, Victory, Bonds, Victory]  \n",
       "4368784  [Presto, Scholl, Department, Stores, Toiletry,...  \n",
       "4368785  [Associated, Press, ANGELES, April, Court, Cha...  \n",
       "4368786  [Charge, Budget, Coupon, Goldenberg, Floor, Cr...  \n",
       "4368787  [District, Court, Wallace, Linfoot, Linfoot, S...  \n",
       "\n",
       "[4368788 rows x 9 columns]"
      ]
     },
     "execution_count": 7,
     "metadata": {},
     "output_type": "execute_result"
    }
   ],
   "source": [
    "# Add capitalized words as a new column (longer than 3 letters)\n",
    "df['capitalized_words'] = df['article'].str.findall(r'\\b[A-Z][a-zA-Z]{4,}\\b')\n",
    "df"
   ]
  },
  {
   "cell_type": "markdown",
   "metadata": {},
   "source": [
    "## str.contains() for Simple Pattern Matching\n",
    "\n",
    "The str.contains() method is a straightforward way to check if a string contains a specific pattern. In our case, we're using it to:\n",
    "\n",
    "1. Check if the article text contains the word \"war\"\n",
    "\n",
    "2. Create a new column to store the result\n",
    "\n",
    "This method is efficient and easy to understand, making it a good choice for simple pattern matching tasks."
   ]
  },
  {
   "cell_type": "code",
   "execution_count": 8,
   "metadata": {},
   "outputs": [
    {
     "data": {
      "text/plain": [
       "contains_war\n",
       "False    3240769\n",
       "True     1128019\n",
       "Name: count, dtype: int64"
      ]
     },
     "execution_count": 8,
     "metadata": {},
     "output_type": "execute_result"
    }
   ],
   "source": [
    "df['contains_war'] = df['article'].str.contains('war|War', regex=True)\n",
    "df[\"contains_war\"].value_counts()"
   ]
  },
  {
   "cell_type": "markdown",
   "metadata": {},
   "source": [
    "## str.lower() for Case-Insensitive Matching\n",
    "\n",
    "The str.lower() method is useful when you need to perform case-insensitive pattern matching. In our case, we're using it to:\n",
    "\n",
    "1. Convert the article text to lowercase\n",
    "\n",
    "2. Check if the lowercase text contains the word \"war\""
   ]
  },
  {
   "cell_type": "code",
   "execution_count": 9,
   "metadata": {},
   "outputs": [
    {
     "data": {
      "text/plain": [
       "contains_war_lower\n",
       "False    3217171\n",
       "True     1151617\n",
       "Name: count, dtype: int64"
      ]
     },
     "execution_count": 9,
     "metadata": {},
     "output_type": "execute_result"
    }
   ],
   "source": [
    "df['contains_war_lower'] = df['article'].str.lower().str.contains('war')\n",
    "df[\"contains_war_lower\"].value_counts()"
   ]
  },
  {
   "cell_type": "markdown",
   "metadata": {},
   "source": [
    "## Comparing Performance of Different Approaches\n",
    "\n",
    "In this section, we'll compare the performance of different approaches for checking if the article text contains the word \"war\". We'll use the timeit module to measure the execution time of each approach.\n"
   ]
  },
  {
   "cell_type": "code",
   "execution_count": 10,
   "metadata": {},
   "outputs": [
    {
     "name": "stdout",
     "output_type": "stream",
     "text": [
      "Regex time: 0.5435 seconds\n",
      "Lowercase time: 0.1004 seconds\n"
     ]
    }
   ],
   "source": [
    "import time\n",
    "\n",
    "# Benchmark regex approach\n",
    "start = time.time()\n",
    "df['contains_war_regex'] = df['article'].str.contains('war|War', regex=True)\n",
    "regex_time = time.time() - start\n",
    "\n",
    "# Benchmark lowercase approach\n",
    "start = time.time()\n",
    "df['contains_war_lower'] = df['article'].str.lower().str.contains('war')\n",
    "lower_time = time.time() - start\n",
    "\n",
    "print(f\"Regex time: {regex_time:.4f} seconds\")\n",
    "print(f\"Lowercase time: {lower_time:.4f} seconds\")"
   ]
  },
  {
   "cell_type": "markdown",
   "metadata": {},
   "source": [
    "## Exploding a List Column into Multiple Rows\n",
    "\n",
    "In this section, we'll explode the 'capitalized_words' column, which contains a list of words, into separate rows. This allows us to analyze each word individually and count their frequencies."
   ]
  },
  {
   "cell_type": "code",
   "execution_count": 11,
   "metadata": {},
   "outputs": [
    {
     "data": {
      "text/plain": [
       "0      Recognition\n",
       "0    International\n",
       "0       Conference\n",
       "0            Paris\n",
       "0        Countries\n",
       "Name: capitalized_words, dtype: object"
      ]
     },
     "execution_count": 11,
     "metadata": {},
     "output_type": "execute_result"
    }
   ],
   "source": [
    "# Explode the capitalized_words list into separate rows\n",
    "exploded_words = df['capitalized_words'].explode()\n",
    "exploded_words.head(5)"
   ]
  },
  {
   "cell_type": "markdown",
   "metadata": {},
   "source": [
    "We can examine the type of the exploded_words column to confirm that it is a Series of strings."
   ]
  },
  {
   "cell_type": "code",
   "execution_count": 12,
   "metadata": {},
   "outputs": [
    {
     "data": {
      "text/plain": [
       "cudf.core.series.Series"
      ]
     },
     "execution_count": 12,
     "metadata": {},
     "output_type": "execute_result"
    }
   ],
   "source": [
    "type(exploded_words)"
   ]
  },
  {
   "cell_type": "markdown",
   "metadata": {},
   "source": [
    "Let's calculate the word frequencies for the exploded_words column."
   ]
  },
  {
   "cell_type": "code",
   "execution_count": 13,
   "metadata": {},
   "outputs": [
    {
     "name": "stdout",
     "output_type": "stream",
     "text": [
      "Top 20 most frequent capitalized words:\n",
      "capitalized_words\n",
      "American      534776\n",
      "Washington    505441\n",
      "United        454882\n",
      "States        449000\n",
      "State         332361\n",
      "District      326188\n",
      "George        325751\n",
      "Sunday        320644\n",
      "William       295381\n",
      "There         288402\n",
      "National      258777\n",
      "President     257932\n",
      "German        253964\n",
      "British       251564\n",
      "Church        250112\n",
      "James         249267\n",
      "Charles       229777\n",
      "Press         225028\n",
      "House         209311\n",
      "Saturday      206893\n",
      "Name: count, dtype: int64\n"
     ]
    }
   ],
   "source": [
    "# Calculate word frequencies\n",
    "word_frequencies = exploded_words.value_counts()\n",
    "\n",
    "# Display top 20 most frequent capitalized words\n",
    "print(\"Top 20 most frequent capitalized words:\")\n",
    "print(word_frequencies.head(20))"
   ]
  },
  {
   "cell_type": "markdown",
   "metadata": {},
   "source": [
    "## Real-World Example: Tracking Historical Figures\n",
    "\n",
    "In this section, we'll use the str.contains() method to track mentions of historical figures over time. We'll create columns for each figure and then group by date to count mentions.\n",
    "\n",
    "In this example, we'll analyze how frequently certain historical figures were mentioned in newspaper articles over time.\n",
    "We'll focus on major World War II leaders: Roosevelt, Hitler, Churchill, and Stalin.\n",
    "\n",
    "For each historical figure:\n",
    "1. We'll create a boolean column indicating whether each article mentions that figure\n",
    "2. Extract the year from the article dates\n",
    "3. Group the data by year to see how mentions changed over time\n",
    "\n",
    "This analysis can help us understand:\n",
    "- Which leaders received more media attention\n",
    "- How coverage of different leaders changed throughout the war\n",
    "- Potential correlations between historical events and media coverage\n",
    "\n"
   ]
  },
  {
   "cell_type": "code",
   "execution_count": 14,
   "metadata": {},
   "outputs": [
    {
     "name": "stdout",
     "output_type": "stream",
     "text": [
      "\n",
      "Yearly mention counts:\n",
      "      contains_Roosevelt  contains_Hitler  contains_Churchill  contains_Stalin\n",
      "year                                                                          \n",
      "1941               15981            10071                3167              628\n",
      "1943               10558             4814                3443             1230\n",
      "1939               14384             7686                 591              337\n",
      "1938               18187             6352                 516              181\n",
      "1942               11829             6410                2498             2265\n",
      "1945                9359             4812                3480             1210\n",
      "1940               14811             6300                1664              284\n",
      "1944               12081             4205                2452              741\n"
     ]
    }
   ],
   "source": [
    "# Extract year from date and track mentions of historical figures by year\n",
    "historical_figures = ['Roosevelt', 'Hitler', 'Churchill', 'Stalin']\n",
    "\n",
    "# Create columns for each figure\n",
    "for figure in historical_figures:\n",
    "    df[f'contains_{figure}'] = df['article'].str.contains(figure)\n",
    "\n",
    "# Extract year and group by it\n",
    "df['year'] = df['date'].dt.year\n",
    "\n",
    "# Create a summary dataframe for all figures by year\n",
    "yearly_summary = df.groupby('year')[[f'contains_{figure}' for figure in historical_figures]].sum()\n",
    "print(\"\\nYearly mention counts:\")\n",
    "print(yearly_summary)\n"
   ]
  },
  {
   "cell_type": "code",
   "execution_count": null,
   "metadata": {},
   "outputs": [],
   "source": []
  }
 ],
 "metadata": {
  "kernelspec": {
   "display_name": "cuda124",
   "language": "python",
   "name": "python3"
  },
  "language_info": {
   "codemirror_mode": {
    "name": "ipython",
    "version": 3
   },
   "file_extension": ".py",
   "mimetype": "text/x-python",
   "name": "python",
   "nbconvert_exporter": "python",
   "pygments_lexer": "ipython3",
   "version": "3.10.16"
  }
 },
 "nbformat": 4,
 "nbformat_minor": 2
}
