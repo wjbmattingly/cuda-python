{
 "cells": [
  {
   "cell_type": "code",
   "execution_count": 1,
   "metadata": {},
   "outputs": [],
   "source": [
    "import cudf"
   ]
  },
  {
   "cell_type": "code",
   "execution_count": 2,
   "metadata": {},
   "outputs": [],
   "source": [
    "df = cudf.read_parquet('../data/american_stories_1938_1945.parquet')"
   ]
  },
  {
   "cell_type": "code",
   "execution_count": 3,
   "metadata": {},
   "outputs": [
    {
     "name": "stdout",
     "output_type": "stream",
     "text": [
      "Fri Feb  7 21:45:33 2025       \n",
      "+-----------------------------------------------------------------------------------------+\n",
      "| NVIDIA-SMI 550.90.07              Driver Version: 550.90.07      CUDA Version: 12.4     |\n",
      "|-----------------------------------------+------------------------+----------------------+\n",
      "| GPU  Name                 Persistence-M | Bus-Id          Disp.A | Volatile Uncorr. ECC |\n",
      "| Fan  Temp   Perf          Pwr:Usage/Cap |           Memory-Usage | GPU-Util  Compute M. |\n",
      "|                                         |                        |               MIG M. |\n",
      "|=========================================+========================+======================|\n",
      "|   0  NVIDIA RTX 5000 Ada Gene...    Off |   00000000:01:00.0 Off |                  Off |\n",
      "| 30%   35C    P2             57W /  250W |    5282MiB /  32760MiB |      7%      Default |\n",
      "|                                         |                        |                  N/A |\n",
      "+-----------------------------------------+------------------------+----------------------+\n",
      "                                                                                         \n",
      "+-----------------------------------------------------------------------------------------+\n",
      "| Processes:                                                                              |\n",
      "|  GPU   GI   CI        PID   Type   Process name                              GPU Memory |\n",
      "|        ID   ID                                                               Usage      |\n",
      "|=========================================================================================|\n",
      "|    0   N/A  N/A      2098      G   /usr/lib/xorg/Xorg                            350MiB |\n",
      "|    0   N/A  N/A      2533      G   /usr/bin/gnome-shell                          237MiB |\n",
      "|    0   N/A  N/A      9603      G   ...erProcess --variations-seed-version        295MiB |\n",
      "|    0   N/A  N/A     11362      C   ...y/anaconda3/envs/cuda124/bin/python       4360MiB |\n",
      "+-----------------------------------------------------------------------------------------+\n"
     ]
    }
   ],
   "source": [
    "!nvidia-smi"
   ]
  },
  {
   "cell_type": "code",
   "execution_count": 4,
   "metadata": {},
   "outputs": [
    {
     "name": "stdout",
     "output_type": "stream",
     "text": [
      "<class 'cudf.core.dataframe.DataFrame'>\n",
      "RangeIndex: 4368788 entries, 0 to 4368787\n",
      "Data columns (total 8 columns):\n",
      " #   Column          Dtype\n",
      "---  ------          -----\n",
      " 0   article_id      object\n",
      " 1   newspaper_name  object\n",
      " 2   edition         object\n",
      " 3   date            object\n",
      " 4   page            object\n",
      " 5   headline        object\n",
      " 6   byline          object\n",
      " 7   article         object\n",
      "dtypes: object(8)\n",
      "memory usage: 3.9+ GB\n"
     ]
    }
   ],
   "source": [
    "df.info()"
   ]
  },
  {
   "cell_type": "code",
   "execution_count": 5,
   "metadata": {},
   "outputs": [],
   "source": [
    "# Convert date column to datetime\n",
    "df['date'] = cudf.to_datetime(df['date'])"
   ]
  },
  {
   "cell_type": "code",
   "execution_count": 6,
   "metadata": {},
   "outputs": [
    {
     "name": "stdout",
     "output_type": "stream",
     "text": [
      "<class 'cudf.core.dataframe.DataFrame'>\n",
      "RangeIndex: 4368788 entries, 0 to 4368787\n",
      "Data columns (total 8 columns):\n",
      " #   Column          Dtype\n",
      "---  ------          -----\n",
      " 0   article_id      object\n",
      " 1   newspaper_name  object\n",
      " 2   edition         object\n",
      " 3   date            datetime64[ns]\n",
      " 4   page            object\n",
      " 5   headline        object\n",
      " 6   byline          object\n",
      " 7   article         object\n",
      "dtypes: datetime64[ns](1), object(7)\n",
      "memory usage: 3.9+ GB\n"
     ]
    }
   ],
   "source": [
    "df.info()"
   ]
  },
  {
   "cell_type": "code",
   "execution_count": 7,
   "metadata": {},
   "outputs": [
    {
     "data": {
      "text/html": [
       "<div>\n",
       "<style scoped>\n",
       "    .dataframe tbody tr th:only-of-type {\n",
       "        vertical-align: middle;\n",
       "    }\n",
       "\n",
       "    .dataframe tbody tr th {\n",
       "        vertical-align: top;\n",
       "    }\n",
       "\n",
       "    .dataframe thead th {\n",
       "        text-align: right;\n",
       "    }\n",
       "</style>\n",
       "<table border=\"1\" class=\"dataframe\">\n",
       "  <thead>\n",
       "    <tr style=\"text-align: right;\">\n",
       "      <th></th>\n",
       "      <th>date</th>\n",
       "      <th>article_count</th>\n",
       "    </tr>\n",
       "  </thead>\n",
       "  <tbody>\n",
       "    <tr>\n",
       "      <th>0</th>\n",
       "      <td>1944-07-21</td>\n",
       "      <td>1584</td>\n",
       "    </tr>\n",
       "    <tr>\n",
       "      <th>1</th>\n",
       "      <td>1942-06-07</td>\n",
       "      <td>1724</td>\n",
       "    </tr>\n",
       "    <tr>\n",
       "      <th>2</th>\n",
       "      <td>1942-11-29</td>\n",
       "      <td>1226</td>\n",
       "    </tr>\n",
       "    <tr>\n",
       "      <th>3</th>\n",
       "      <td>1943-06-15</td>\n",
       "      <td>1005</td>\n",
       "    </tr>\n",
       "    <tr>\n",
       "      <th>4</th>\n",
       "      <td>1942-09-09</td>\n",
       "      <td>1518</td>\n",
       "    </tr>\n",
       "  </tbody>\n",
       "</table>\n",
       "</div>"
      ],
      "text/plain": [
       "        date  article_count\n",
       "0 1944-07-21           1584\n",
       "1 1942-06-07           1724\n",
       "2 1942-11-29           1226\n",
       "3 1943-06-15           1005\n",
       "4 1942-09-09           1518"
      ]
     },
     "execution_count": 7,
     "metadata": {},
     "output_type": "execute_result"
    }
   ],
   "source": [
    "# Group by date and count articles per day\n",
    "articles_per_day = df.groupby('date').size().reset_index(name='article_count')\n",
    "articles_per_day.head(5)"
   ]
  },
  {
   "cell_type": "code",
   "execution_count": 8,
   "metadata": {},
   "outputs": [
    {
     "data": {
      "text/plain": [
       "cudf.core.dataframe.DataFrame"
      ]
     },
     "execution_count": 8,
     "metadata": {},
     "output_type": "execute_result"
    }
   ],
   "source": [
    "type(articles_per_day)"
   ]
  },
  {
   "cell_type": "code",
   "execution_count": 9,
   "metadata": {},
   "outputs": [
    {
     "name": "stdout",
     "output_type": "stream",
     "text": [
      "<class 'cudf.core.dataframe.DataFrame'>\n",
      "RangeIndex: 2922 entries, 0 to 2921\n",
      "Data columns (total 2 columns):\n",
      " #   Column         Non-Null Count  Dtype\n",
      "---  ------         --------------  -----\n",
      " 0   date           2922 non-null   datetime64[ns]\n",
      " 1   article_count  2922 non-null   int64\n",
      "dtypes: datetime64[ns](1), int64(1)\n",
      "memory usage: 45.7 KB\n"
     ]
    }
   ],
   "source": [
    "articles_per_day.info()"
   ]
  },
  {
   "cell_type": "code",
   "execution_count": 13,
   "metadata": {},
   "outputs": [
    {
     "name": "stdout",
     "output_type": "stream",
     "text": [
      "\n",
      "Most common year in the dataset:\n",
      "year\n",
      "1940    366\n",
      "1944    366\n",
      "1938    365\n",
      "1942    365\n",
      "1945    365\n",
      "1943    365\n",
      "1939    365\n",
      "1941    365\n",
      "Name: count, dtype: int64\n"
     ]
    }
   ],
   "source": [
    "# Extract year from date and find the most common year\n",
    "articles_per_day['year'] = articles_per_day['date'].dt.year\n",
    "most_common_year = articles_per_day['year'].value_counts().head(10)\n",
    "print(\"\\nMost common year in the dataset:\")\n",
    "print(most_common_year)\n"
   ]
  },
  {
   "cell_type": "code",
   "execution_count": 14,
   "metadata": {},
   "outputs": [
    {
     "name": "stdout",
     "output_type": "stream",
     "text": [
      "\n",
      "Most common year-month combinations:\n",
      "   year  month  count\n",
      "1  1938     10     31\n",
      "2  1939     12     31\n",
      "3  1940      1     31\n",
      "4  1944      3     31\n",
      "5  1941     10     31\n"
     ]
    }
   ],
   "source": [
    "# Extract month and find most common year-month combination\n",
    "articles_per_day['month'] = articles_per_day['date'].dt.month\n",
    "year_month = articles_per_day.groupby(['year', 'month']).size().reset_index(name='count')\n",
    "most_common_year_month = year_month.nlargest(5, 'count')\n",
    "\n",
    "print(\"\\nMost common year-month combinations:\")\n",
    "print(most_common_year_month)"
   ]
  },
  {
   "cell_type": "code",
   "execution_count": 15,
   "metadata": {},
   "outputs": [
    {
     "name": "stdout",
     "output_type": "stream",
     "text": [
      "\n",
      "Average number of articles per day: 1495.14\n"
     ]
    }
   ],
   "source": [
    "# Calculate average articles per day\n",
    "avg_articles = articles_per_day['article_count'].mean()\n",
    "print(f\"\\nAverage number of articles per day: {avg_articles:.2f}\")"
   ]
  },
  {
   "cell_type": "code",
   "execution_count": 16,
   "metadata": {},
   "outputs": [
    {
     "name": "stdout",
     "output_type": "stream",
     "text": [
      "\n",
      "Day with most articles:\n",
      "           date  article_count  year  month\n",
      "1158 1939-01-05           2797  1939      1\n"
     ]
    }
   ],
   "source": [
    "# Get day with most articles\n",
    "max_articles_day = articles_per_day.nlargest(1, 'article_count')\n",
    "print(\"\\nDay with most articles:\")\n",
    "print(max_articles_day)"
   ]
  },
  {
   "cell_type": "code",
   "execution_count": null,
   "metadata": {},
   "outputs": [],
   "source": [
    "# !pip install matplotlib"
   ]
  },
  {
   "cell_type": "code",
   "execution_count": 17,
   "metadata": {},
   "outputs": [
    {
     "data": {
      "image/png": "[encoded data removed]",
      "text/plain": [
       "<Figure size 1200x600 with 1 Axes>"
      ]
     },
     "metadata": {},
     "output_type": "display_data"
    }
   ],
   "source": [
    "import matplotlib.pyplot as plt\n",
    "# Plot frequency distribution of years\n",
    "# Create a bar plot of articles by year\n",
    "plt.figure(figsize=(12,6))\n",
    "year_totals = articles_per_day.groupby('year')['article_count'].sum()\n",
    "# Convert cudf Series directly to numpy arrays\n",
    "plt.bar(year_totals.index.to_numpy(), year_totals.to_numpy())\n",
    "plt.title('Total Articles by Year')\n",
    "plt.xlabel('Year')\n",
    "plt.ylabel('Total Number of Articles')\n",
    "plt.grid(True, axis='y')\n",
    "\n",
    "# Rotate x-axis labels for better readability\n",
    "plt.xticks(rotation=45)\n",
    "plt.tight_layout()\n",
    "\n",
    "plt.show()\n"
   ]
  },
  {
   "cell_type": "code",
   "execution_count": null,
   "metadata": {},
   "outputs": [],
   "source": []
  }
 ],
 "metadata": {
  "kernelspec": {
   "display_name": "cuda124",
   "language": "python",
   "name": "python3"
  },
  "language_info": {
   "codemirror_mode": {
    "name": "ipython",
    "version": 3
   },
   "file_extension": ".py",
   "mimetype": "text/x-python",
   "name": "python",
   "nbconvert_exporter": "python",
   "pygments_lexer": "ipython3",
   "version": "3.10.16"
  }
 },
 "nbformat": 4,
 "nbformat_minor": 2
}
